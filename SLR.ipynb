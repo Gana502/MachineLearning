{
 "cells": [
  {
   "cell_type": "code",
   "execution_count": 5,
   "id": "3ee23992-f5a9-4d16-915e-1b8a0df88c96",
   "metadata": {},
   "outputs": [
    {
     "data": {
      "text/plain": [
       "0.7865108093853882"
      ]
     },
     "execution_count": 5,
     "metadata": {},
     "output_type": "execute_result"
    }
   ],
   "source": [
    "# Multi-linear Regression-1\n",
    "import pandas as pd\n",
    "# Step-1: Data Collection\n",
    "dataset=pd.read_csv(\"insurance_pre.csv\")\n",
    "# Step2: Data pre-processing\n",
    "dataset=pd.get_dummies(dataset,drop_first=True)\n",
    "# Step 3: Input/output split\n",
    "independent=dataset[['age', 'sex_male', 'bmi', 'children', 'smoker_yes']]\n",
    "dependent=dataset[['charges']]\n",
    "# step 4: Split into train and test set\n",
    "from sklearn.model_selection import train_test_split\n",
    "x_train,x_test,y_train,y_test=train_test_split(independent, dependent,test_size=1/3,random_state=0)\n",
    "# Step 5: Create SLR model\n",
    "from sklearn.linear_model import LinearRegression\n",
    "regressor=LinearRegression()\n",
    "regressor=regressor.fit(x_train,y_train)\n",
    "# Step 6: Test the model\n",
    "y_pred=regressor.predict(x_test)\n",
    "# Step 7: Evaluate the model\n",
    "from sklearn.metrics import r2_score\n",
    "r_score=r2_score(y_test,y_pred)\n",
    "r_score"
   ]
  },
  {
   "cell_type": "code",
   "execution_count": 1,
   "id": "373f785e-4eff-4d0d-b714-fec8d01693fc",
   "metadata": {},
   "outputs": [
    {
     "data": {
      "text/plain": [
       "0.7576979781998017"
      ]
     },
     "execution_count": 1,
     "metadata": {},
     "output_type": "execute_result"
    }
   ],
   "source": [
    "# Multi-linear Regression-2\n",
    "import pandas as pd\n",
    "# Step-1: Data Collection\n",
    "dataset=pd.read_csv(\"insurance_pre.csv\")\n",
    "# Step2: Data pre-processing\n",
    "dataset=pd.get_dummies(dataset,drop_first=True)\n",
    "# Step 3: Input/output split\n",
    "independent=dataset[['age', 'sex_male', 'bmi', 'children', 'smoker_yes']]\n",
    "dependent=dataset[['charges']]\n",
    "# step 4: Split into train and test set\n",
    "from sklearn.model_selection import train_test_split\n",
    "x_train,x_test,y_train,y_test=train_test_split(independent, dependent,test_size=1/3,random_state=0)\n",
    "# Step 5: Create SLR model\n",
    "from sklearn.linear_model import LinearRegression\n",
    "regressor=LinearRegression(fit_intercept=False,copy_X=False,positive=True)\n",
    "regressor=regressor.fit(x_train,y_train)\n",
    "# Step 6: Test the model\n",
    "y_pred=regressor.predict(x_test)\n",
    "# Step 7: Evaluate the model\n",
    "from sklearn.metrics import r2_score\n",
    "r_score=r2_score(y_test,y_pred)\n",
    "r_score"
   ]
  },
  {
   "cell_type": "code",
   "execution_count": 10,
   "id": "946140b0-2ddb-4f82-b5c8-4cba8bc3f7cd",
   "metadata": {},
   "outputs": [
    {
     "name": "stderr",
     "output_type": "stream",
     "text": [
      "C:\\Anaconda3\\Lib\\site-packages\\sklearn\\utils\\validation.py:1408: DataConversionWarning: A column-vector y was passed when a 1d array was expected. Please change the shape of y to (n_samples, ), for example using ravel().\n",
      "  y = column_or_1d(y, warn=True)\n"
     ]
    },
    {
     "data": {
      "text/plain": [
       "0.8609984992147567"
      ]
     },
     "execution_count": 10,
     "metadata": {},
     "output_type": "execute_result"
    }
   ],
   "source": [
    "# Support Vector Regresssion-1\n",
    "import pandas as pd\n",
    "# Step-1: Data Collection\n",
    "dataset=pd.read_csv(\"insurance_pre.csv\")\n",
    "# Step2: Data pre-processing\n",
    "dataset=pd.get_dummies(dataset,drop_first=True)\n",
    "# Step 3: Input/output split\n",
    "independent=dataset[['age', 'sex_male', 'bmi', 'children', 'smoker_yes']]\n",
    "dependent=dataset[['charges']]\n",
    "# step 4: Split into train and test set\n",
    "from sklearn.model_selection import train_test_split\n",
    "x_train,x_test,y_train,y_test=train_test_split(independent, dependent,test_size=1/3,random_state=0)\n",
    "#Step 4.1: Standardizing inputs\n",
    "from sklearn.preprocessing import StandardScaler\n",
    "sc=StandardScaler()\n",
    "x_train=sc.fit_transform(x_train)\n",
    "x_test=sc.transform(x_test)\n",
    "# Step 5: Create SLR model\n",
    "from sklearn.svm import SVR\n",
    "regressor=SVR(kernel=\"linear\",C=3000)\n",
    "regressor=regressor.fit(x_train,y_train)\n",
    "# Step 6: Test the model\n",
    "y_pred=regressor.predict(x_test)\n",
    "# Step 7: Evaluate the model\n",
    "from sklearn.metrics import r2_score\n",
    "r_score=r2_score(y_test,y_pred)\n",
    "r_score"
   ]
  },
  {
   "cell_type": "code",
   "execution_count": 22,
   "id": "031b9fa6-ab94-471c-9bfd-ca9ce740fd95",
   "metadata": {},
   "outputs": [
    {
     "name": "stderr",
     "output_type": "stream",
     "text": [
      "C:\\Anaconda3\\Lib\\site-packages\\sklearn\\utils\\validation.py:1408: DataConversionWarning: A column-vector y was passed when a 1d array was expected. Please change the shape of y to (n_samples, ), for example using ravel().\n",
      "  y = column_or_1d(y, warn=True)\n"
     ]
    },
    {
     "data": {
      "text/plain": [
       "0.8577898390283616"
      ]
     },
     "execution_count": 22,
     "metadata": {},
     "output_type": "execute_result"
    }
   ],
   "source": [
    "# Support Vector Regresssion-2\n",
    "import pandas as pd\n",
    "# Step-1: Data Collection\n",
    "dataset=pd.read_csv(\"insurance_pre.csv\")\n",
    "# Step2: Data pre-processing\n",
    "dataset=pd.get_dummies(dataset,drop_first=True)\n",
    "# Step 3: Input/output split\n",
    "independent=dataset[['age', 'sex_male', 'bmi', 'children', 'smoker_yes']]\n",
    "dependent=dataset[['charges']]\n",
    "# step 4: Split into train and test set\n",
    "from sklearn.model_selection import train_test_split\n",
    "x_train,x_test,y_train,y_test=train_test_split(independent, dependent,test_size=1/3,random_state=0)\n",
    "#Step 4.1: Standardizing inputs\n",
    "from sklearn.preprocessing import StandardScaler\n",
    "sc=StandardScaler()\n",
    "x_train=sc.fit_transform(x_train)\n",
    "x_test=sc.transform(x_test)\n",
    "# Step 5: Create SLR model\n",
    "from sklearn.svm import SVR\n",
    "regressor=SVR(kernel=\"poly\",C=3000)\n",
    "regressor=regressor.fit(x_train,y_train)\n",
    "# Step 6: Test the model\n",
    "y_pred=regressor.predict(x_test)\n",
    "# Step 7: Evaluate the model\n",
    "from sklearn.metrics import r2_score\n",
    "r_score=r2_score(y_test,y_pred)\n",
    "r_score"
   ]
  },
  {
   "cell_type": "code",
   "execution_count": 16,
   "id": "3ab0682d-dd10-4ce6-bbc5-1fe35702a755",
   "metadata": {},
   "outputs": [
    {
     "name": "stderr",
     "output_type": "stream",
     "text": [
      "C:\\Anaconda3\\Lib\\site-packages\\sklearn\\utils\\validation.py:1408: DataConversionWarning: A column-vector y was passed when a 1d array was expected. Please change the shape of y to (n_samples, ), for example using ravel().\n",
      "  y = column_or_1d(y, warn=True)\n"
     ]
    },
    {
     "data": {
      "text/plain": [
       "0.8609984992147567"
      ]
     },
     "execution_count": 16,
     "metadata": {},
     "output_type": "execute_result"
    }
   ],
   "source": [
    "# Support Vector Regresssion-3\n",
    "import pandas as pd\n",
    "# Step-1: Data Collection\n",
    "dataset=pd.read_csv(\"insurance_pre.csv\")\n",
    "# Step2: Data pre-processing\n",
    "dataset=pd.get_dummies(dataset,drop_first=True)\n",
    "# Step 3: Input/output split\n",
    "independent=dataset[['age', 'sex_male', 'bmi', 'children', 'smoker_yes']]\n",
    "dependent=dataset[['charges']]\n",
    "# step 4: Split into train and test set\n",
    "from sklearn.model_selection import train_test_split\n",
    "x_train,x_test,y_train,y_test=train_test_split(independent, dependent,test_size=1/3,random_state=0)\n",
    "#Step 4.1: Standardizing inputs\n",
    "from sklearn.preprocessing import StandardScaler\n",
    "sc=StandardScaler()\n",
    "x_train=sc.fit_transform(x_train)\n",
    "x_test=sc.transform(x_test)\n",
    "# Step 5: Create SLR model\n",
    "from sklearn.svm import SVR\n",
    "regressor=SVR(kernel=\"rbf\",C=3000)\n",
    "regressor=regressor.fit(x_train,y_train)\n",
    "# Step 6: Test the model\n",
    "y_pred=regressor.predict(x_test)\n",
    "# Step 7: Evaluate the model\n",
    "from sklearn.metrics import r2_score\n",
    "r_score=r2_score(y_test,y_pred)\n",
    "r_score"
   ]
  },
  {
   "cell_type": "code",
   "execution_count": 28,
   "id": "e2643a9b-6e74-4911-a00f-e1a422a3b733",
   "metadata": {},
   "outputs": [
    {
     "name": "stderr",
     "output_type": "stream",
     "text": [
      "C:\\Anaconda3\\Lib\\site-packages\\sklearn\\utils\\validation.py:1408: DataConversionWarning: A column-vector y was passed when a 1d array was expected. Please change the shape of y to (n_samples, ), for example using ravel().\n",
      "  y = column_or_1d(y, warn=True)\n"
     ]
    },
    {
     "data": {
      "text/plain": [
       "-2.011925671723861"
      ]
     },
     "execution_count": 28,
     "metadata": {},
     "output_type": "execute_result"
    }
   ],
   "source": [
    "# Support Vector Regresssion-4\n",
    "import pandas as pd\n",
    "# Step-1: Data Collection\n",
    "dataset=pd.read_csv(\"insurance_pre.csv\")\n",
    "# Step2: Data pre-processing\n",
    "dataset=pd.get_dummies(dataset,drop_first=True)\n",
    "# Step 3: Input/output split\n",
    "independent=dataset[['age', 'sex_male', 'bmi', 'children', 'smoker_yes']]\n",
    "dependent=dataset[['charges']]\n",
    "# step 4: Split into train and test set\n",
    "from sklearn.model_selection import train_test_split\n",
    "x_train,x_test,y_train,y_test=train_test_split(independent, dependent,test_size=1/3,random_state=0)\n",
    "#Step 4.1: Standardizing inputs\n",
    "from sklearn.preprocessing import StandardScaler\n",
    "sc=StandardScaler()\n",
    "x_train=sc.fit_transform(x_train)\n",
    "x_test=sc.transform(x_test)\n",
    "# Step 5: Create SLR model\n",
    "from sklearn.svm import SVR\n",
    "regressor=SVR(kernel=\"sigmoid\",C=3000)\n",
    "regressor=regressor.fit(x_train,y_train)\n",
    "# Step 6: Test the model\n",
    "y_pred=regressor.predict(x_test)\n",
    "# Step 7: Evaluate the model\n",
    "from sklearn.metrics import r2_score\n",
    "r_score=r2_score(y_test,y_pred)\n",
    "r_score"
   ]
  },
  {
   "cell_type": "code",
   "execution_count": null,
   "id": "efbb6771-d007-4e4c-965c-e6465ba9ca49",
   "metadata": {},
   "outputs": [],
   "source": [
    "# Support Vector Regresssion-4\n",
    "import pandas as pd\n",
    "# Step-1: Data Collection\n",
    "dataset=pd.read_csv(\"insurance_pre.csv\")\n",
    "# Step2: Data pre-processing\n",
    "dataset=pd.get_dummies(dataset,drop_first=True)\n",
    "# Step 3: Input/output split\n",
    "independent=dataset[['age', 'sex_male', 'bmi', 'children', 'smoker_yes']]\n",
    "dependent=dataset[['charges']]\n",
    "# step 4: Split into train and test set\n",
    "from sklearn.model_selection import train_test_split\n",
    "x_train,x_test,y_train,y_test=train_test_split(independent, dependent,test_size=1/3,random_state=0)\n",
    "#Step 4.1: Standardizing inputs\n",
    "from sklearn.preprocessing import StandardScaler\n",
    "sc=StandardScaler()\n",
    "x_train=sc.fit_transform(x_train)\n",
    "x_test=sc.transform(x_test)\n",
    "# Step 5: Create SLR model\n",
    "from sklearn.svm import SVR\n",
    "regressor=SVR(kernel=\"sigmoid\",C=3000)\n",
    "regressor=regressor.fit(x_train,y_train)\n",
    "# Step 6: Test the model\n",
    "y_pred=regressor.predict(x_test)\n",
    "# Step 7: Evaluate the model\n",
    "from sklearn.metrics import r2_score\n",
    "r_score=r2_score(y_test,y_pred)\n",
    "r_score"
   ]
  },
  {
   "cell_type": "code",
   "execution_count": 50,
   "id": "a4129be3-1e50-4335-958a-c391d760e209",
   "metadata": {},
   "outputs": [
    {
     "data": {
      "text/plain": [
       "0.7031514832460721"
      ]
     },
     "execution_count": 50,
     "metadata": {},
     "output_type": "execute_result"
    }
   ],
   "source": [
    "# Decision Tree - 1\n",
    "import pandas as pd\n",
    "# Step-1: Data Collection\n",
    "dataset=pd.read_csv(\"insurance_pre.csv\")\n",
    "# Step2: Data pre-processing\n",
    "dataset=pd.get_dummies(dataset,drop_first=True)\n",
    "# Step 3: Input/output split\n",
    "independent=dataset[['age', 'sex_male', 'bmi', 'children', 'smoker_yes']]\n",
    "dependent=dataset[['charges']]\n",
    "# step 4: Split into train and test set\n",
    "from sklearn.model_selection import train_test_split\n",
    "x_train,x_test,y_train,y_test=train_test_split(independent, dependent,test_size=1/3,random_state=0)\n",
    "#Step 4.1: Standardizing inputs\n",
    "from sklearn.preprocessing import StandardScaler\n",
    "sc=StandardScaler()\n",
    "x_train=sc.fit_transform(x_train)\n",
    "x_test=sc.transform(x_test)\n",
    "# Step 5: Create SLR model\n",
    "from sklearn.tree import DecisionTreeRegressor\n",
    "regressor=DecisionTreeRegressor(criterion='poisson',max_features='sqrt',splitter='best')\n",
    "regressor=regressor.fit(x_train,y_train)\n",
    "# Step 6: Test the model\n",
    "y_pred=regressor.predict(x_test)\n",
    "# Step 7: Evaluate the model\n",
    "from sklearn.metrics import r2_score\n",
    "r_score=r2_score(y_test,y_pred)\n",
    "r_score"
   ]
  },
  {
   "cell_type": "code",
   "execution_count": 69,
   "id": "1ce39fb4-d206-474e-8a9e-d3b9f1a13bd5",
   "metadata": {},
   "outputs": [
    {
     "name": "stderr",
     "output_type": "stream",
     "text": [
      "C:\\Anaconda3\\Lib\\site-packages\\sklearn\\base.py:1389: DataConversionWarning: A column-vector y was passed when a 1d array was expected. Please change the shape of y to (n_samples,), for example using ravel().\n",
      "  return fit_method(estimator, *args, **kwargs)\n"
     ]
    },
    {
     "data": {
      "text/plain": [
       "0.8659223104512601"
      ]
     },
     "execution_count": 69,
     "metadata": {},
     "output_type": "execute_result"
    }
   ],
   "source": [
    "# Random Forest - 1\n",
    "import pandas as pd\n",
    "# Step-1: Data Collection\n",
    "dataset=pd.read_csv(\"insurance_pre.csv\")\n",
    "# Step2: Data pre-processing\n",
    "dataset=pd.get_dummies(dataset,drop_first=True)\n",
    "# Step 3: Input/output split\n",
    "independent=dataset[['age', 'sex_male', 'bmi', 'children', 'smoker_yes']]\n",
    "dependent=dataset[['charges']]\n",
    "# step 4: Split into train and test set\n",
    "from sklearn.model_selection import train_test_split\n",
    "x_train,x_test,y_train,y_test=train_test_split(independent, dependent,test_size=1/3,random_state=0)\n",
    "#Step 4.1: Standardizing inputs\n",
    "from sklearn.preprocessing import StandardScaler\n",
    "sc=StandardScaler()\n",
    "x_train=sc.fit_transform(x_train)\n",
    "x_test=sc.transform(x_test)\n",
    "# Step 5: Create SLR model\n",
    "from sklearn.ensemble import RandomForestRegressor\n",
    "regressor=RandomForestRegressor(criterion='poisson',max_features='sqrt',n_estimators=10)\n",
    "regressor=regressor.fit(x_train,y_train)\n",
    "# Step 6: Test the model\n",
    "y_pred=regressor.predict(x_test)\n",
    "# Step 7: Evaluate the model\n",
    "from sklearn.metrics import r2_score\n",
    "r_score=r2_score(y_test,y_pred)\n",
    "r_score"
   ]
  },
  {
   "cell_type": "code",
   "execution_count": null,
   "id": "8e9f24ac-664a-4ddf-8fc8-34cb69e0ce1d",
   "metadata": {},
   "outputs": [],
   "source": []
  }
 ],
 "metadata": {
  "kernelspec": {
   "display_name": "Python [conda env:base] *",
   "language": "python",
   "name": "conda-base-py"
  },
  "language_info": {
   "codemirror_mode": {
    "name": "ipython",
    "version": 3
   },
   "file_extension": ".py",
   "mimetype": "text/x-python",
   "name": "python",
   "nbconvert_exporter": "python",
   "pygments_lexer": "ipython3",
   "version": "3.13.5"
  }
 },
 "nbformat": 4,
 "nbformat_minor": 5
}
